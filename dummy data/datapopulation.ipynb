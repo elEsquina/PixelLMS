{
 "cells": [
  {
   "cell_type": "code",
   "execution_count": 1,
   "metadata": {},
   "outputs": [],
   "source": [
    "import csv\n",
    "from faker import Faker\n",
    "from datetime import datetime, timedelta\n",
    "import random"
   ]
  },
  {
   "cell_type": "code",
   "execution_count": 2,
   "metadata": {},
   "outputs": [],
   "source": [
    "fake = Faker()\n",
    "\n",
    "user_id_counter = 1\n",
    "course_id_counter = 1\n",
    "discussion_id_counter = 1\n",
    "message_id_counter = 1\n",
    "task_id_counter = 1\n",
    "file_id_counter = 1\n",
    "calendarevent_id_counter = 1\n",
    "engagesin_id_counter = 1\n",
    "userdoestask_id_counter = 1\n",
    "tables = ['user_', 'course', 'discussion', 'message', 'task', 'file_', 'calendarevent', 'engagesin', 'userdoestask', 'notification']"
   ]
  },
  {
   "cell_type": "code",
   "execution_count": 3,
   "metadata": {},
   "outputs": [],
   "source": [
    "def generate_users(number_of_users):\n",
    "    global user_id_counter\n",
    "\n",
    "    emails = list(set([fake.email() for i in range(number_of_users * 50)]))\n",
    "    phones = list(set([fake.phone_number()[:18] for i in range(number_of_users * 50)]))\n",
    "\n",
    "    with open(\"csv/user_.csv\", mode='w', newline='') as file:\n",
    "        writer = csv.writer(file)\n",
    "        writer.writerow(['userid', 'email', 'name', 'birthdate', 'phonenumber', 'creationdate', 'role', 'password'])\n",
    "        for _ in range(number_of_users):\n",
    "            user_id = user_id_counter\n",
    "            user_id_counter += 1\n",
    "            name = fake.name()\n",
    "            email = emails[user_id]\n",
    "            password = \"8d969eef6ecad3c29a3a629280e686cf0c3f5d5a86aff3ca12020c923adc6c92\"\n",
    "            phone = phones[user_id]\n",
    "            birthdate = fake.date_of_birth(minimum_age=18, maximum_age=80)\n",
    "            creationdate = fake.date_this_decade()\n",
    "            role = random.choice(['admin', 'teacher', 'teacher', 'student', 'student', 'student', 'student'])\n",
    "            writer.writerow([user_id, email, name, birthdate, phone, creationdate, role, password])\n",
    "\n"
   ]
  },
  {
   "cell_type": "code",
   "execution_count": 4,
   "metadata": {},
   "outputs": [],
   "source": [
    "def generate_courses(number_of_courses):\n",
    "    global course_id_counter\n",
    "    with open(\"csv/course.csv\", mode='w', newline='') as file:\n",
    "        writer = csv.writer(file)\n",
    "        writer.writerow(['courseid', 'title', 'startdate', 'enddate', 'description', 'status', 'userid'])\n",
    "\n",
    "        for _ in range(number_of_courses):\n",
    "            course_id = course_id_counter\n",
    "            course_id_counter += 1\n",
    "            coursetitle = fake.company()\n",
    "            startdate = fake.date_this_decade()\n",
    "            enddate = startdate + timedelta(days=random.randint(1, 365))\n",
    "            description = fake.text()\n",
    "            status = random.choice(['Non Commencée', 'En Cours', 'Terminée'])\n",
    "            userid = random.randint(1, user_id_counter - 1)\n",
    "            writer.writerow([course_id, coursetitle, startdate, enddate, description, status, userid])\n"
   ]
  },
  {
   "cell_type": "code",
   "execution_count": 5,
   "metadata": {},
   "outputs": [],
   "source": [
    "def generate_discussions(number_of_discussions):\n",
    "    global discussion_id_counter\n",
    "    with open(\"csv/discussion.csv\", mode='w', newline='') as file:\n",
    "        writer = csv.writer(file)\n",
    "        writer.writerow(['discussionid', 'title', 'description', 'courseid'])\n",
    "    \n",
    "        for _ in range(number_of_discussions):\n",
    "            discussion_id = discussion_id_counter\n",
    "            discussion_id_counter += 1\n",
    "            title = fake.sentence()\n",
    "            description = fake.text()\n",
    "            courseid = random.randint(1, course_id_counter - 1)\n",
    "            writer.writerow([discussion_id, title, description, courseid])"
   ]
  },
  {
   "cell_type": "code",
   "execution_count": 6,
   "metadata": {},
   "outputs": [],
   "source": [
    "def generate_messages(number_of_messages):\n",
    "    global message_id_counter\n",
    "    with open(\"csv/message.csv\", mode='w', newline='') as file:\n",
    "        writer = csv.writer(file)\n",
    "        writer.writerow(['messageid', 'content', 'timestamp', 'userid', 'discussionid'])\n",
    "    \n",
    "        for _ in range(number_of_messages):\n",
    "            message_id = message_id_counter\n",
    "            message_id_counter += 1\n",
    "            content = fake.text()\n",
    "            userid = random.randint(1, user_id_counter - 1)\n",
    "            timestamp = fake.date_time_this_decade()\n",
    "            discussionid = random.randint(1, discussion_id_counter - 1)\n",
    "            writer.writerow([message_id, content, timestamp , userid, discussionid])"
   ]
  },
  {
   "cell_type": "code",
   "execution_count": 7,
   "metadata": {},
   "outputs": [],
   "source": [
    "def generate_tasks(number_of_tasks):\n",
    "    global task_id_counter\n",
    "    with open(\"csv/task.csv\", mode='w', newline='') as file:\n",
    "        writer = csv.writer(file)\n",
    "        writer.writerow(['taskid', 'title', 'description', 'duedate', 'status', 'courseid'])\n",
    "\n",
    "        for _ in range(number_of_tasks):\n",
    "            task_id = task_id_counter\n",
    "            task_id_counter += 1\n",
    "            title = fake.sentence()\n",
    "            description = fake.text()\n",
    "            duedate = fake.date_this_decade()\n",
    "            status = random.choice(['Non Commencée', 'En Cours', 'Terminée'])\n",
    "            courseid = random.randint(1, course_id_counter - 1)\n",
    "            writer.writerow([task_id, title, description, duedate, status, courseid])\n"
   ]
  },
  {
   "cell_type": "code",
   "execution_count": 8,
   "metadata": {},
   "outputs": [],
   "source": [
    "def generate_files(number_of_files):\n",
    "    global file_id_counter\n",
    "    with open(\"csv/file_.csv\", mode='w', newline='') as file:\n",
    "        writer = csv.writer(file)\n",
    "        writer.writerow(['fileid', 'path', 'timestamp', 'userid', 'courseid'])\n",
    "\n",
    "        for _ in range(number_of_files):\n",
    "            file_id = file_id_counter\n",
    "            file_id_counter += 1\n",
    "            path = fake.file_path()\n",
    "            uploaddate = fake.date_time_this_decade()\n",
    "            userid = random.randint(1, user_id_counter - 1)\n",
    "            courseid = random.randint(1, course_id_counter - 1)\n",
    "            writer.writerow([file_id, path, uploaddate, userid, courseid])"
   ]
  },
  {
   "cell_type": "code",
   "execution_count": 9,
   "metadata": {},
   "outputs": [],
   "source": [
    "def generate_calendarevents(number_of_calendarevents):\n",
    "    global calendarevent_id_counter\n",
    "    with open(\"csv/calendarevent.csv\", mode='w', newline='') as file:\n",
    "        writer = csv.writer(file)\n",
    "        writer.writerow(['eventnumber', 'title', 'description', 'starttime', 'endtime', 'courseid'])\n",
    "\n",
    "        for _ in range(number_of_calendarevents):\n",
    "            calendarevent_id = calendarevent_id_counter\n",
    "            calendarevent_id_counter += 1\n",
    "            title = fake.sentence()\n",
    "            description = fake.text()\n",
    "            starttime = fake.date_time_this_decade ()\n",
    "            endtime = starttime + timedelta(hours=random.randint(1, 100))\n",
    "            courseid = random.randint(1, course_id_counter - 1)\n",
    "            writer.writerow([calendarevent_id, title, description, starttime, endtime, courseid])"
   ]
  },
  {
   "cell_type": "code",
   "execution_count": 10,
   "metadata": {},
   "outputs": [],
   "source": [
    "def generate_engagesin(number_of_engagesin):\n",
    "    global engagesin_id_counter\n",
    "    with open(\"csv/engagesin.csv\", mode='w', newline='') as file:\n",
    "        writer = csv.writer(file)\n",
    "        writer.writerow(['userid', 'joindate', 'courseid'])\n",
    "\n",
    "        for _ in range(number_of_engagesin):\n",
    "            userid = random.randint(1, user_id_counter - 1)\n",
    "            courseid = random.randint(1, course_id_counter - 1)\n",
    "            joindate = fake.date_this_decade()\n",
    "            writer.writerow([userid, joindate , courseid])"
   ]
  },
  {
   "cell_type": "code",
   "execution_count": 11,
   "metadata": {},
   "outputs": [],
   "source": [
    "def generate_userdoestask(number_of_userdoestask):\n",
    "    global userdoestask_id_counter\n",
    "    with open(\"csv/userdoestask.csv\", mode='w', newline='') as file:\n",
    "        writer = csv.writer(file)\n",
    "        writer.writerow(['userid', 'taskid'])\n",
    "\n",
    "        for _ in range(number_of_userdoestask):\n",
    "            userid = random.randint(1, user_id_counter - 1)\n",
    "            taskid = random.randint(1, task_id_counter - 1)\n",
    "            writer.writerow([userid, taskid])"
   ]
  },
  {
   "cell_type": "code",
   "execution_count": 12,
   "metadata": {},
   "outputs": [],
   "source": [
    "def generate_notifications(number_of_notifications):\n",
    "    with open(\"csv/notification.csv\", mode='w', newline='') as file:\n",
    "        writer = csv.writer(file)\n",
    "        writer.writerow(['notificationid', 'title', 'content', 'timestamp', 'userid'])\n",
    "\n",
    "        for _ in range(number_of_notifications):\n",
    "            notificationid = random.randint(1, 1000000)\n",
    "            title = fake.sentence()\n",
    "            content = fake.text()\n",
    "            timestamp = fake.date_time_this_decade()\n",
    "            userid = random.randint(1, user_id_counter - 1)\n",
    "            writer.writerow([notificationid, title, content, timestamp, userid])"
   ]
  },
  {
   "cell_type": "code",
   "execution_count": 13,
   "metadata": {},
   "outputs": [],
   "source": [
    "num_users = 10000\n",
    "num_courses = 1000\n",
    "num_discussions = 500\n",
    "num_messages = 10000\n",
    "num_tasks = 2000\n",
    "num_files = 20\n",
    "num_calendarevents = 1000\n",
    "num_engagesin = 12000\n",
    "num_userdoestask = 300\n",
    "num_notifications = 100"
   ]
  },
  {
   "cell_type": "code",
   "execution_count": 14,
   "metadata": {},
   "outputs": [],
   "source": [
    "generate_users(num_users)\n",
    "generate_courses(num_courses)\n",
    "generate_discussions(num_discussions)\n",
    "generate_messages(num_messages)\n",
    "generate_tasks(num_tasks)\n",
    "generate_files(num_files)\n",
    "generate_calendarevents(num_calendarevents)\n",
    "generate_engagesin(num_engagesin)\n",
    "generate_userdoestask(num_userdoestask)\n",
    "generate_notifications(num_notifications)"
   ]
  },
  {
   "cell_type": "code",
   "execution_count": 15,
   "metadata": {},
   "outputs": [],
   "source": [
    "def csv_to_sql_insert(csv_file):\n",
    "    table_name = csv_file.replace(\".csv\", \"\")\n",
    "\n",
    "    with open(\"csv/\" + csv_file, 'r', newline='', encoding='latin1') as csvfile:\n",
    "        csv_reader = csv.DictReader(csvfile)\n",
    "        columns = csv_reader.fieldnames\n",
    "        \n",
    "        x = str(tuple(columns)).replace(\"'\", \"\") \n",
    "        insert_queries = []\n",
    "        \n",
    "        for row in csv_reader:\n",
    "            values = [f\"{row[column]}\" if isinstance(row[column], str) else str(row[column]) for column in columns]\n",
    "            y = str(tuple(values)).replace(\"'NULL'\", \"NULL\")\n",
    "            insert_query = f'INSERT INTO {table_name} {x} VALUES {y};'\n",
    "            insert_queries.append(insert_query)\n",
    "\n",
    "    return insert_queries \n",
    "\n",
    "\n",
    "insert_queries = []\n",
    "\n",
    "for tablename in tables:\n",
    "    insert_queries += csv_to_sql_insert(f\"{tablename}.csv\")\n"
   ]
  },
  {
   "cell_type": "code",
   "execution_count": 16,
   "metadata": {},
   "outputs": [],
   "source": [
    "with open(\"../sql/database-dummyloader.sql\", \"w+\", encoding='utf-8') as file:\n",
    "    for query in insert_queries:\n",
    "        file.write(query + \"\\n\")"
   ]
  }
 ],
 "metadata": {
  "kernelspec": {
   "display_name": "Python 3",
   "language": "python",
   "name": "python3"
  },
  "language_info": {
   "codemirror_mode": {
    "name": "ipython",
    "version": 3
   },
   "file_extension": ".py",
   "mimetype": "text/x-python",
   "name": "python",
   "nbconvert_exporter": "python",
   "pygments_lexer": "ipython3",
   "version": "3.11.2"
  }
 },
 "nbformat": 4,
 "nbformat_minor": 2
}
